{
 "cells": [
  {
   "cell_type": "markdown",
   "metadata": {},
   "source": [
    "# После формирования дата сета, нужно привести наш дата сет в порядок, убрать лишнее"
   ]
  },
  {
   "cell_type": "markdown",
   "metadata": {},
   "source": [
    "## Библиотеки"
   ]
  },
  {
   "cell_type": "code",
   "execution_count": 2,
   "id": "1ead945c",
   "metadata": {},
   "outputs": [
    {
     "name": "stdout",
     "output_type": "stream",
     "text": [
      "3.10.11 (tags/v3.10.11:7d4cc5a, Apr  5 2023, 00:38:17) [MSC v.1929 64 bit (AMD64)]\n"
     ]
    }
   ],
   "source": [
    "import sys\n",
    "print(sys.version)"
   ]
  },
  {
   "cell_type": "code",
   "execution_count": 4,
   "metadata": {},
   "outputs": [
    {
     "ename": "ModuleNotFoundError",
     "evalue": "No module named 'mediapipe'",
     "output_type": "error",
     "traceback": [
      "\u001b[1;31m---------------------------------------------------------------------------\u001b[0m",
      "\u001b[1;31mModuleNotFoundError\u001b[0m                       Traceback (most recent call last)",
      "Cell \u001b[1;32mIn[4], line 3\u001b[0m\n\u001b[0;32m      1\u001b[0m \u001b[38;5;28;01mimport\u001b[39;00m \u001b[38;5;21;01mos\u001b[39;00m\n\u001b[0;32m      2\u001b[0m \u001b[38;5;28;01mimport\u001b[39;00m \u001b[38;5;21;01mpickle\u001b[39;00m\n\u001b[1;32m----> 3\u001b[0m \u001b[38;5;28;01mimport\u001b[39;00m \u001b[38;5;21;01mmediapipe\u001b[39;00m \u001b[38;5;28;01mas\u001b[39;00m \u001b[38;5;21;01mmp\u001b[39;00m\n\u001b[0;32m      4\u001b[0m \u001b[38;5;28;01mimport\u001b[39;00m \u001b[38;5;21;01mcv2\u001b[39;00m\n\u001b[0;32m      5\u001b[0m \u001b[38;5;28;01mimport\u001b[39;00m \u001b[38;5;21;01mmatplotlib\u001b[39;00m\u001b[38;5;21;01m.\u001b[39;00m\u001b[38;5;21;01mpyplot\u001b[39;00m \u001b[38;5;28;01mas\u001b[39;00m \u001b[38;5;21;01mplt\u001b[39;00m\n",
      "\u001b[1;31mModuleNotFoundError\u001b[0m: No module named 'mediapipe'"
     ]
    }
   ],
   "source": [
    "import os\n",
    "import pickle\n",
    "import mediapipe as mp\n",
    "import cv2\n",
    "import matplotlib.pyplot as plt\n"
   ]
  },
  {
   "cell_type": "markdown",
   "metadata": {},
   "source": [
    "## Параметры"
   ]
  },
  {
   "cell_type": "code",
   "execution_count": null,
   "metadata": {},
   "outputs": [],
   "source": [
    "# с какой дерриктории будем считывать\n",
    "DATA_DIR = './data/static'\n",
    "# куда сохраним наши данные массива главных точек\n",
    "DATA_SAVE_RESULT = './data/data.pickle'\n",
    "data = []\n",
    "labels = []"
   ]
  },
  {
   "cell_type": "markdown",
   "metadata": {},
   "source": [
    "Объекты для обнарущения орентиров"
   ]
  },
  {
   "cell_type": "code",
   "execution_count": null,
   "metadata": {},
   "outputs": [],
   "source": [
    "mp_hands = mp.solutions.hands                   # отслеживание рук\n",
    "mp_drawing = mp.solutions.drawing_utils         # для рисования точек и связей на изображениях\n",
    "mp_drawing_styles = mp.solutions.drawing_styles # можно использовать при визуализации точек и связей\n",
    "\n",
    "# static_image_mode=True: Указывает, что отслеживание рук выполняется на статическом изображении, а не на видеопотоке. \n",
    "                            # В этом режиме модель предполагает, что входное изображение - это один статический кадр.\n",
    "# min_detection_confidence=0.3: Задает минимальный уровень уверенности, необходимый для успешного обнаружения руки. \n",
    "                            # Более высокий порог уверенности может привести к меньшему количеству, но более надежным обнаружениям.\n",
    "hands = mp_hands.Hands(static_image_mode=True, min_detection_confidence=0.3)"
   ]
  },
  {
   "cell_type": "markdown",
   "metadata": {},
   "source": [
    "## Отображений данных частично "
   ]
  },
  {
   "cell_type": "code",
   "execution_count": null,
   "metadata": {},
   "outputs": [],
   "source": [
    "all_images = []\n",
    "num_columns = 3\n",
    "count_example = 2\n",
    "\n",
    "for dir_ in os.listdir(DATA_DIR):\n",
    "    for img_path in os.listdir(os.path.join(DATA_DIR, dir_))[:count_example]:\n",
    "        img = cv2.imread(os.path.join(DATA_DIR, dir_, img_path))\n",
    "        img_rgb = cv2.cvtColor(img, cv2.COLOR_BGR2RGB)\n",
    "        all_images.append((img_rgb, dir_))\n",
    "\n",
    "num_images = len(all_images)\n",
    "num_rows = (num_images + num_columns - 1) // num_columns\n",
    "fig, axs = plt.subplots(num_rows, num_columns, figsize=(15, 5))\n",
    "axs = axs.flatten()\n",
    "for i, (img, label) in enumerate(all_images):\n",
    "    axs[i].imshow(img)\n",
    "    axs[i].set_title(label)\n",
    "    axs[i].axis('off')\n",
    "\n",
    "for j in range(i + 1, len(axs)):\n",
    "    axs[j].axis('off')\n",
    "\n",
    "plt.show()"
   ]
  },
  {
   "cell_type": "markdown",
   "metadata": {},
   "source": [
    "## Фильтруем дата сет"
   ]
  },
  {
   "cell_type": "markdown",
   "metadata": {},
   "source": [
    "пример"
   ]
  },
  {
   "cell_type": "code",
   "execution_count": null,
   "metadata": {},
   "outputs": [],
   "source": [
    "all_images = []\n",
    "num_columns = 2\n",
    "count_example = 1\n",
    "\n",
    "for dir_ in os.listdir(DATA_DIR):\n",
    "    for img_path in os.listdir(os.path.join(DATA_DIR, dir_))[:count_example]:\n",
    "        img = cv2.imread(os.path.join(DATA_DIR, dir_, img_path))\n",
    "        img_rgb = cv2.cvtColor(img, cv2.COLOR_BGR2RGB)\n",
    "\n",
    "        \n",
    "        results = hands.process(img_rgb)\n",
    "        # обнаружили мы хотябы одну руку\n",
    "        if results.multi_hand_landmarks:\n",
    "            for hand_landmarks in results.multi_hand_landmarks:\n",
    "                # рисуем ключевые точки и связи на изображении\n",
    "                mp_drawing.draw_landmarks(\n",
    "                    img_rgb,\n",
    "                    hand_landmarks, # координаты ключевых точек руки\n",
    "                    mp_hands.HAND_CONNECTIONS, # для отрисовки связей между точками\n",
    "                    mp_drawing_styles.get_default_hand_landmarks_style(), # возвращает объект, представляющий стиль\n",
    "                    mp_drawing_styles.get_default_hand_connections_style() # для отрисовки связей между ключевыми точками.\n",
    "                )\n",
    "        all_images.append((img_rgb, dir_))\n",
    "\n",
    "num_images = len(all_images)\n",
    "num_rows = (num_images + num_columns - 1) // num_columns\n",
    "fig, axs = plt.subplots(num_rows, num_columns, figsize=(15, 25))\n",
    "axs = axs.flatten()\n",
    "for i, (img, label) in enumerate(all_images):\n",
    "    axs[i].imshow(img)\n",
    "    axs[i].set_title(label)\n",
    "    axs[i].axis('off')\n",
    "\n",
    "for j in range(i + 1, len(axs)):\n",
    "    axs[j].axis('off')\n",
    "\n",
    "plt.show()"
   ]
  },
  {
   "cell_type": "markdown",
   "metadata": {},
   "source": [
    "ну а теперь сохраняем себе все ориентиры"
   ]
  },
  {
   "cell_type": "code",
   "execution_count": null,
   "metadata": {},
   "outputs": [],
   "source": [
    "for dir_ in os.listdir(DATA_DIR):\n",
    "    for img_path in os.listdir(os.path.join(DATA_DIR, dir_)):\n",
    "        data_aux = []\n",
    "        x_ = []\n",
    "        y_ = []\n",
    "        img = cv2.imread(os.path.join(DATA_DIR, dir_, img_path))\n",
    "        img_rgb = cv2.cvtColor(img, cv2.COLOR_BGR2RGB)\n",
    "        results = hands.process(img_rgb)\n",
    "        # нашли ли руку\n",
    "        if results.multi_hand_landmarks:\n",
    "            # проходим по каждой руке на изображении\n",
    "            for hand_landmarks in results.multi_hand_landmarks:\n",
    "                # собираем координаты X и Y всех ключевых точек руки\n",
    "                for i in range(len(hand_landmarks.landmark)):\n",
    "                    x = hand_landmarks.landmark[i].x\n",
    "                    y = hand_landmarks.landmark[i].y\n",
    "                    x_.append(x)\n",
    "                    y_.append(y)\n",
    "\n",
    "                # нормализуем координаты точек относительно минимальных значений\n",
    "                for i in range(len(hand_landmarks.landmark)):\n",
    "                    x = hand_landmarks.landmark[i].x\n",
    "                    y = hand_landmarks.landmark[i].y\n",
    "                    data_aux.append(x - min(x_))\n",
    "                    data_aux.append(y - min(y_))\n",
    "\n",
    "            data.append(data_aux)\n",
    "            labels.append(dir_)"
   ]
  },
  {
   "cell_type": "markdown",
   "metadata": {},
   "source": [
    "сохроняем"
   ]
  },
  {
   "cell_type": "code",
   "execution_count": null,
   "metadata": {},
   "outputs": [],
   "source": [
    "f = open(DATA_SAVE_RESULT, 'wb')\n",
    "pickle.dump({'data': data, 'labels': labels}, f)\n",
    "f.close()"
   ]
  }
 ],
 "metadata": {
  "kernelspec": {
   "display_name": "Python 3",
   "language": "python",
   "name": "python3"
  },
  "language_info": {
   "codemirror_mode": {
    "name": "ipython",
    "version": 3
   },
   "file_extension": ".py",
   "mimetype": "text/x-python",
   "name": "python",
   "nbconvert_exporter": "python",
   "pygments_lexer": "ipython3",
   "version": "3.10.11"
  }
 },
 "nbformat": 4,
 "nbformat_minor": 5
}
