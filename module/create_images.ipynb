{
 "cells": [
  {
   "cell_type": "markdown",
   "metadata": {},
   "source": [
    "# Даннй модуль отвечает за создание дата сета. Считывание с камеры"
   ]
  },
  {
   "cell_type": "markdown",
   "metadata": {},
   "source": [
    "## Библиотеки"
   ]
  },
  {
   "cell_type": "code",
   "execution_count": 1,
   "id": "c8388c5f",
   "metadata": {},
   "outputs": [],
   "source": [
    "import os\n",
    "import cv2"
   ]
  },
  {
   "cell_type": "markdown",
   "id": "2b8ccb95",
   "metadata": {},
   "source": [
    "## Параметры"
   ]
  },
  {
   "cell_type": "code",
   "execution_count": 2,
   "id": "4cb2eeba",
   "metadata": {},
   "outputs": [],
   "source": [
    "# дерристория в которую будем сохранять дата сет\n",
    "DATA_DIR = './../data/static'\n",
    "# список классов которое нужно собрать\n",
    "classes_list = ['empty', 'A', 'B', 'C', 'О' 'L', 'ILY', 'HEARD', '1', '2', '3', '4', '5', '6', '7', '8', '9']\n",
    "# размер нашего дата сета\n",
    "dataset_size = 100\n",
    "\n",
    "cap = cv2.VideoCapture(0)"
   ]
  },
  {
   "cell_type": "markdown",
   "id": "e8e24ab3",
   "metadata": {},
   "source": [
    "## Формирование дата сета"
   ]
  },
  {
   "cell_type": "code",
   "execution_count": 3,
   "id": "174d0940",
   "metadata": {},
   "outputs": [
    {
     "name": "stdout",
     "output_type": "stream",
     "text": [
      "Собираем дата сет для класса empty\n",
      "Собираем дата сет для класса A\n",
      "Собираем дата сет для класса B\n",
      "Собираем дата сет для класса C\n",
      "Собираем дата сет для класса ОL\n",
      "Собираем дата сет для класса ILY\n",
      "Собираем дата сет для класса HEARD\n",
      "Собираем дата сет для класса 1\n",
      "Собираем дата сет для класса 2\n",
      "Собираем дата сет для класса 3\n",
      "Собираем дата сет для класса 4\n",
      "Собираем дата сет для класса 5\n",
      "Собираем дата сет для класса 6\n",
      "Собираем дата сет для класса 7\n",
      "Собираем дата сет для класса 8\n",
      "Собираем дата сет для класса 9\n"
     ]
    }
   ],
   "source": [
    "for class_item in classes_list:\n",
    "    if not os.path.exists(os.path.join(DATA_DIR, str(class_item))):\n",
    "        os.makedirs(os.path.join(DATA_DIR, str(class_item)))\n",
    "\n",
    "    print('Собираем дата сет для класса {}'.format(class_item))\n",
    "\n",
    "    done = False\n",
    "    exit = False\n",
    "    while exit == False:\n",
    "        ret, frame = cap.read()\n",
    "        if not ret:\n",
    "            print(\"Failed to capture frame. Exiting...\")\n",
    "            break\n",
    "\n",
    "        cv2.putText(frame, f\"Press \\\"Q\\\" to create data :) {class_item}\", (20, 20), cv2.FONT_HERSHEY_SIMPLEX, 0.7, (0, 0, 255), 1,\n",
    "                    cv2.LINE_AA)\n",
    "        cv2.imshow('frame', frame)\n",
    "        key = cv2.waitKey(25)\n",
    "\n",
    "        if key == ord('q'):\n",
    "            done = True\n",
    "            break\n",
    "\n",
    "        if key == ord('w'):\n",
    "            exit = True\n",
    "            break\n",
    "            \n",
    "\n",
    "    if done:\n",
    "        counter = 0\n",
    "        while counter < dataset_size:\n",
    "            ret, frame = cap.read()\n",
    "            if not ret:\n",
    "                print(\"Failed to capture frame. Exiting...\")\n",
    "                break\n",
    "\n",
    "            cv2.imshow('frame', frame)\n",
    "            cv2.waitKey(25)\n",
    "            cv2.imwrite(os.path.join(DATA_DIR, str(class_item), '{}.jpg'.format(counter)), frame)\n",
    "\n",
    "            counter += 1\n",
    "\n",
    "cap.release()\n",
    "cv2.destroyAllWindows()"
   ]
  }
 ],
 "metadata": {
  "kernelspec": {
   "display_name": "Python 3",
   "language": "python",
   "name": "python3"
  },
  "language_info": {
   "codemirror_mode": {
    "name": "ipython",
    "version": 3
   },
   "file_extension": ".py",
   "mimetype": "text/x-python",
   "name": "python",
   "nbconvert_exporter": "python",
   "pygments_lexer": "ipython3",
   "version": "3.10.2"
  }
 },
 "nbformat": 4,
 "nbformat_minor": 5
}
